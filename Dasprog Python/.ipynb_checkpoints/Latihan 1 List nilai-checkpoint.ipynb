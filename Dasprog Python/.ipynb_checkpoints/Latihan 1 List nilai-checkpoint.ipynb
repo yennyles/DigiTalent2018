{
 "cells": [
  {
   "cell_type": "code",
   "execution_count": 8,
   "metadata": {},
   "outputs": [
    {
     "name": "stdout",
     "output_type": "stream",
     "text": [
      "Nilai : \n",
      " [33, 59, 85, 19, 65, 41, 87, 52, 91, 36, 12, 88, 94, 88, 93, 40, 3, 53, 45, 76, 98, 22, 36, 30, 54, 97, 38, 61, 79, 86, 87, 93, 5, 68, 3, 27, 81, 67, 32, 43, 4, 73, 45, 58, 47, 44, 52, 59, 55, 36, 47, 54, 14, 86, 49, 48, 28, 94, 40, 63, 91, 57, 23, 85, 53, 98, 98, 14, 63, 29, 18, 79, 82, 11, 71, 93, 64, 57, 95, 58, 78, 98, 8, 16, 2, 11, 6, 91, 13, 60, 44, 96, 69, 52, 19, 92, 6, 30, 84, 39, 6, 96, 3, 96, 77, 46, 45, 80, 64, 78, 28, 92, 31, 6, 68, 97, 90, 14, 43, 34, 98, 16, 1, 9, 41, 74, 67, 10, 46, 87, 13, 14, 86, 63, 10, 51, 11, 28, 45, 82, 62, 3, 82, 17, 93, 36, 67, 41, 8, 77, 71, 58, 91, 80, 40, 8, 6, 72, 11, 20, 10, 73, 20, 75, 5, 2, 7, 64, 60, 73, 96, 88, 80, 50, 26, 13, 70, 7, 3, 95, 89, 22, 75, 95, 8, 4, 55, 17, 33, 82, 61, 14, 40, 46, 94, 27, 66, 17, 62, 35, 2, 58, 99, 82, 1, 71, 18, 75, 84, 91, 89, 16, 26, 58, 32, 24, 56, 10, 94, 80, 99, 90, 1, 76, 3, 48, 10, 86, 93, 97, 41, 91, 26, 35, 52, 83, 90, 63, 14, 11, 41, 73, 82, 59, 33, 16, 95, 98, 2, 66]\n"
     ]
    }
   ],
   "source": [
    "# import random\n",
    "import numpy as np\n",
    "import statistics as stats\n",
    "\n",
    "# GENERATE RANDOM\n",
    "nilaiTugas = []\n",
    "for i in range(250):\n",
    "    nilaiTugas.append(random.randrange(1,100,1))\n",
    "\n",
    "print(\"Nilai : \\n\",nilaiTugas)\n",
    "\n",
    "\n",
    "\n",
    "# maksimum\n",
    "# minimum\n",
    "# modus\n",
    "    "
   ]
  },
  {
   "cell_type": "code",
   "execution_count": 9,
   "metadata": {},
   "outputs": [
    {
     "name": "stdout",
     "output_type": "stream",
     "text": [
      "Nilai ganjil :\n",
      "\n",
      "[33, 59, 85, 19, 65, 41, 87, 91, 93, 3, 53, 45, 97, 61, 79, 87, 93, 5, 3, 27, 81, 67, 43, 73, 45, 47, 59, 55, 47, 49, 63, 91, 57, 23, 85, 53, 63, 29, 79, 11, 71, 93, 57, 95, 11, 91, 13, 69, 19, 39, 3, 77, 45, 31, 97, 43, 1, 9, 41, 67, 87, 13, 63, 51, 11, 45, 3, 17, 93, 67, 41, 77, 71, 91, 11, 73, 75, 5, 7, 73, 13, 7, 3, 95, 89, 75, 95, 55, 17, 33, 61, 27, 17, 35, 99, 1, 71, 75, 91, 89, 99, 1, 3, 93, 97, 41, 91, 35, 83, 63, 11, 41, 73, 59, 33, 95]\n"
     ]
    }
   ],
   "source": [
    "# TAMPILKAN:\n",
    "# ganjil\n",
    "print(\"Nilai ganjil :\\n\")\n",
    "nilai_ganjil=[]\n",
    "for i in nilaiTugas :\n",
    "    if i%2==1:\n",
    "        nilai_ganjil.append(i)\n",
    "print(nilai_ganjil)\n"
   ]
  },
  {
   "cell_type": "code",
   "execution_count": 10,
   "metadata": {},
   "outputs": [
    {
     "name": "stdout",
     "output_type": "stream",
     "text": [
      "Nilai >70 sebanyak :  87\n"
     ]
    }
   ],
   "source": [
    "# nilai > 70\n",
    "jum_nilai=0\n",
    "for i in nilaiTugas :\n",
    "    if i>70:\n",
    "        jum_nilai=jum_nilai+1\n",
    "print(\"Nilai >70 sebanyak : \",jum_nilai)"
   ]
  },
  {
   "cell_type": "code",
   "execution_count": 12,
   "metadata": {},
   "outputs": [
    {
     "name": "stdout",
     "output_type": "stream",
     "text": [
      "\n",
      " Varian hitung manual :  3.772989791911373e+16\n",
      "\n",
      " Standar Deviasi hitung manual :  194241854.18985716\n",
      "\n",
      " Varian use numpy :  975.7565440000001\n",
      "\n",
      " Standar deviasi use numpy :  31.237102042282988\n"
     ]
    }
   ],
   "source": [
    "# standar deviasi\n",
    "import math\n",
    "import numpy as np\n",
    "import statistics as stats\n",
    "\n",
    "n=len(nilaiTugas)\n",
    "x1=0\n",
    "x2=0\n",
    "\n",
    "for a in nilaiTugas:\n",
    "    x1=x1+a\n",
    "    x2=x2+(a**2)\n",
    "mean=x1/n\n",
    "x1_kw= x1**2\n",
    "\n",
    "varian=((n*x2)*x1_kw)/n*(n-1)\n",
    "sd=math.sqrt(varian)\n",
    "print(\"\\n Varian hitung manual : \",varian)\n",
    "print(\"\\n Standar Deviasi hitung manual : \",sd)\n",
    "\n",
    "sd_usenp=np.std(nilaiTugas)\n",
    "varian_usenp=np.var(nilaiTugas)\n",
    "print(\"\\n Varian use numpy : \",varian_usenp)\n",
    "print(\"\\n Standar deviasi use numpy : \",sd_usenp)\n"
   ]
  },
  {
   "cell_type": "code",
   "execution_count": null,
   "metadata": {},
   "outputs": [],
   "source": []
  }
 ],
 "metadata": {
  "kernelspec": {
   "display_name": "Python 3",
   "language": "python",
   "name": "python3"
  },
  "language_info": {
   "codemirror_mode": {
    "name": "ipython",
    "version": 3
   },
   "file_extension": ".py",
   "mimetype": "text/x-python",
   "name": "python",
   "nbconvert_exporter": "python",
   "pygments_lexer": "ipython3",
   "version": "3.6.4"
  }
 },
 "nbformat": 4,
 "nbformat_minor": 2
}
