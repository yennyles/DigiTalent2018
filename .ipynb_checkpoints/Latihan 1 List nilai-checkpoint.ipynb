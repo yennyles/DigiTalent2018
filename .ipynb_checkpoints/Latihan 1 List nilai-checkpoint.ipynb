{
 "cells": [
  {
   "cell_type": "code",
   "execution_count": null,
   "metadata": {},
   "outputs": [],
   "source": [
    "import numpy as np\n",
    "import statistics as stats\n",
    "import random\n",
    "\n",
    "X= []\n",
    "\n",
    "for i in range(357):\n",
    "    X.append(random.randrange(43,100,1))\n",
    "\n",
    "print (\"Data Asli \\n\", X)\n",
    "\n",
    "X1=np.sort(X)\n",
    "minn=np.min(X)\n",
    "maxx=np.max(X)\n",
    "mean=stats.mean(X)\n",
    "median=stats.median(X)\n",
    "mod=stats.mode(X)\n",
    "sd=np.std(X)\n",
    "variance=np.var(X)\n",
    "\n",
    "\n",
    "print (\"\\n Data Berurutan \\n\",X1)\n",
    "print(\"\\n Nilai min :\", minn)\n",
    "print(\"\\n Nilai max :\", maxx)\n",
    "print(\"\\n Rata - rata :\", mean)\n",
    "print(\"\\n Median :\", median)\n",
    "print(\"\\n Modus :\", mod)\n",
    "print(\"\\n Standar deviasi :\", sd)\n",
    "print(\"\\n Variance :\", variance)\n",
    "\n",
    "if(mean>(3*sd)):\n",
    "    print(\"\\n Jenis Data Outlier\")\n",
    "else:\n",
    "    print(\"\\n Bukan Data Outlier\")\n",
    "\n",
    "if(mean == median):\n",
    "    print(\"\\n Data Simetris\")\n",
    "elif(mean<median):\n",
    "    print(\"\\n Data Condong ke kiri\")\n",
    "elif(median<mean):\n",
    "    print(\"\\n Data Condong ke kanan\")"
   ]
  }
 ],
 "metadata": {
  "kernelspec": {
   "display_name": "Python 3",
   "language": "python",
   "name": "python3"
  },
  "language_info": {
   "codemirror_mode": {
    "name": "ipython",
    "version": 3
   },
   "file_extension": ".py",
   "mimetype": "text/x-python",
   "name": "python",
   "nbconvert_exporter": "python",
   "pygments_lexer": "ipython3",
   "version": "3.6.4"
  }
 },
 "nbformat": 4,
 "nbformat_minor": 2
}
