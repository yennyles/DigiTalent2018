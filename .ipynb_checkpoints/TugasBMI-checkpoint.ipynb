{
 "cells": [
  {
   "cell_type": "code",
   "execution_count": 9,
   "metadata": {},
   "outputs": [
    {
     "name": "stdout",
     "output_type": "stream",
     "text": [
      "Masukkan Berat badan anda (kg) : 55\n",
      "Masukkan Tinggi badan anda (cm) : 165\n",
      "\n",
      " Nilai BMI anda :  20.202\n",
      "Normal (healthy weight)\n",
      " Keterangan : \n",
      "\n",
      "Kurang dari 15 -> Very severely underweight \n",
      "\n",
      "Diantara 15 dan 16 -> Severely underweight \n",
      "\n",
      "Diantara 16 dan 18.5 -> Underweight \n",
      "\n",
      "Diantara 18.5 dan 25 -> Normal (healthy weight) \n",
      "\n",
      "Diantara 25 dan 30 -> Overweight \n",
      "\n",
      "Diantara 30 dan 35 -> Moderately obese \n",
      "\n",
      "Diantara 35 dan 40 -> Severely obese \n",
      "\n",
      "Over 40 -> Very severely obese \n",
      "\n"
     ]
    }
   ],
   "source": [
    "weight=eval(input('Masukkan Berat badan anda (kg) : '))\n",
    "height=eval(input('Masukkan Tinggi badan anda (cm) : '))\n",
    "\n",
    "\n",
    "BMI=round(weight/((height/100)**2),3)\n",
    "\n",
    "print(\"\\n Nilai BMI anda : \",BMI)\n",
    "\n",
    "if BMI<15 :\n",
    "    print(\"Very severely underweight\",end='')\n",
    "elif 15<=BMI<16 :\n",
    "    print(\"Severely underweight\",end='')\n",
    "elif 16<=BMI<18.5 :\n",
    "    print(\"Underweight\",end='')\n",
    "elif 18.5<=BMI<25 :\n",
    "    print(\"Normal (healthy weight)\",end='')\n",
    "elif 25<=BMI<30 :\n",
    "    print(\"Overweight\",end='')\n",
    "elif 30<=BMI<35 :\n",
    "    print(\"Moderately obese\",end='')\n",
    "elif 35<=BMI<40 :\n",
    "    print(\"Severely obese\",end='')\n",
    "else :\n",
    "    print(\"Very severely obese\",end='')\n",
    "\n",
    "print(\"\\n Keterangan : \\n\")\n",
    "print(\"Kurang dari 15 -> Very severely underweight \\n\")\n",
    "print(\"Diantara 15 dan 16 -> Severely underweight \\n\")\n",
    "print(\"Diantara 16 dan 18.5 -> Underweight \\n\")\n",
    "print(\"Diantara 18.5 dan 25 -> Normal (healthy weight) \\n\")\n",
    "print(\"Diantara 25 dan 30 -> Overweight \\n\")\n",
    "print(\"Diantara 30 dan 35 -> Moderately obese \\n\")\n",
    "print(\"Diantara 35 dan 40 -> Severely obese \\n\")\n",
    "print(\"Over 40 -> Very severely obese \\n\")\n"
   ]
  },
  {
   "cell_type": "code",
   "execution_count": null,
   "metadata": {},
   "outputs": [],
   "source": []
  },
  {
   "cell_type": "code",
   "execution_count": null,
   "metadata": {},
   "outputs": [],
   "source": []
  }
 ],
 "metadata": {
  "kernelspec": {
   "display_name": "Python 3",
   "language": "python",
   "name": "python3"
  },
  "language_info": {
   "codemirror_mode": {
    "name": "ipython",
    "version": 3
   },
   "file_extension": ".py",
   "mimetype": "text/x-python",
   "name": "python",
   "nbconvert_exporter": "python",
   "pygments_lexer": "ipython3",
   "version": "3.6.4"
  }
 },
 "nbformat": 4,
 "nbformat_minor": 2
}
