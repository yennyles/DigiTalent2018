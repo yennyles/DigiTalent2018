{
 "cells": [
  {
   "cell_type": "code",
   "execution_count": 1,
   "metadata": {},
   "outputs": [
    {
     "name": "stdout",
     "output_type": "stream",
     "text": [
      "Data Asli \n",
      " [ 10 386 479 627  20 523 482 483 542 699 535 617 577 471 615 583 441 562\n",
      " 563 527 453 530 433 541 585 704 443 569 430 637 331 511 552 496 484 566\n",
      " 554 472 335 440 579 341 545 615 548 604 439 556 442 461 624 611 444 578\n",
      " 405 487 490 496 398 512 422 455 449 432 607 679 434 597 639 565 415 486\n",
      " 668 414 665 763 557 304 404 454 689 610 483 441 657 590 492 476 437 483\n",
      " 529 363 711 543]\n",
      "\n",
      " Data Berurutan \n",
      " [ 10  20 304 331 335 341 363 386 398 404 405 414 415 422 430 432 433 434\n",
      " 437 439 440 441 441 442 443 444 449 453 454 455 461 471 472 476 479 482\n",
      " 483 483 483 484 486 487 490 492 496 496 511 512 523 527 529 530 535 541\n",
      " 542 543 545 548 552 554 556 557 562 563 565 566 569 577 578 579 583 585\n",
      " 590 597 604 607 610 611 615 615 617 624 627 637 639 657 665 668 679 689\n",
      " 699 704 711 763]\n",
      "\n",
      " Nilai min : 10\n",
      "\n",
      " Nilai max : 763\n",
      "\n",
      " Rata - rata : 509\n",
      "\n",
      " Median : 511.5\n",
      "\n",
      " Modus : 483\n",
      "\n",
      " Standar deviasi : 118.51857760182034\n",
      "\n",
      " Variance : 14046.653236758712\n",
      "\n",
      " Data Outlier 2: \n",
      "\n",
      "10\n",
      "20\n",
      "\n",
      " Data Condong ke kiri\n"
     ]
    }
   ],
   "source": [
    "import numpy as np\n",
    "import statistics as stats\n",
    "import random\n",
    "\n",
    "#X= []\n",
    "\n",
    "#for i in range(357):\n",
    "#    X.append(random.randrange(67,100,1))\n",
    "\n",
    "X = np.array([10, 386, 479, 627, 20, 523, 482, 483, 542, 699, 535, 617, 577, 471, 615, 583, 441, 562, 563, 527, 453, 530, 433, 541, 585, 704, 443, 569, 430, 637, 331, 511, 552, 496, 484, 566, 554, 472, 335, 440, 579, 341, 545, 615, 548, 604, 439, 556, 442, 461, 624, 611, 444, 578, 405, 487, 490, 496, 398, 512, 422, 455, 449, 432, 607, 679, 434, 597, 639, 565, 415, 486, 668, 414, 665, 763, 557, 304, 404, 454, 689, 610, 483, 441, 657, 590, 492, 476, 437, 483, 529, 363, 711, 543])\n",
    "\n",
    "print (\"Data Asli \\n\", X)\n",
    "\n",
    "X1=np.sort(X)\n",
    "minn=np.min(X)\n",
    "maxx=np.max(X)\n",
    "mean=stats.mean(X)\n",
    "median=stats.median(X)\n",
    "mod=stats.mode(X)\n",
    "sd=np.std(X)\n",
    "variance=np.var(X)\n",
    "\n",
    "\n",
    "print (\"\\n Data Berurutan \\n\",X1)\n",
    "print(\"\\n Nilai min :\", minn)\n",
    "print(\"\\n Nilai max :\", maxx)\n",
    "print(\"\\n Rata - rata :\", mean)\n",
    "print(\"\\n Median :\", median)\n",
    "print(\"\\n Modus :\", mod)\n",
    "print(\"\\n Standar deviasi :\", sd)\n",
    "print(\"\\n Variance :\", variance)\n",
    "\n",
    "#Found Outlier\n",
    "print(\"\\n Data Outlier 2: \\n\")\n",
    "for A in X1:\n",
    "    if abs(A-mean)>3*sd :\n",
    "        print(A)\n",
    "\n",
    "if(mean == median):\n",
    "    print(\"\\n Data Simetris\")\n",
    "elif(mean<median):\n",
    "    print(\"\\n Data Condong ke kiri\")\n",
    "elif(median<mean):\n",
    "    print(\"\\n Data Condong ke kanan\")\n",
    "    "
   ]
  },
  {
   "cell_type": "code",
   "execution_count": null,
   "metadata": {},
   "outputs": [],
   "source": []
  },
  {
   "cell_type": "code",
   "execution_count": null,
   "metadata": {},
   "outputs": [],
   "source": []
  },
  {
   "cell_type": "code",
   "execution_count": null,
   "metadata": {},
   "outputs": [],
   "source": []
  }
 ],
 "metadata": {
  "kernelspec": {
   "display_name": "Python 3",
   "language": "python",
   "name": "python3"
  },
  "language_info": {
   "codemirror_mode": {
    "name": "ipython",
    "version": 3
   },
   "file_extension": ".py",
   "mimetype": "text/x-python",
   "name": "python",
   "nbconvert_exporter": "python",
   "pygments_lexer": "ipython3",
   "version": "3.6.4"
  }
 },
 "nbformat": 4,
 "nbformat_minor": 2
}
